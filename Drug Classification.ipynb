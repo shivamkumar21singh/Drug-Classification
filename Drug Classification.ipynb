{
  "nbformat": 4,
  "nbformat_minor": 0,
  "metadata": {
    "colab": {
      "provenance": []
    },
    "kernelspec": {
      "name": "python3",
      "display_name": "Python 3"
    },
    "language_info": {
      "name": "python"
    }
  },
  "cells": [
    {
      "cell_type": "markdown",
      "source": [
        "# Importing Libraries"
      ],
      "metadata": {
        "id": "UdvjNnKaNyOm"
      }
    },
    {
      "cell_type": "code",
      "source": [
        "import numpy\n",
        "import pandas\n",
        "import matplotlib.pyplot as plt\n",
        "import seaborn\n",
        "\n",
        "from sklearn.model_selection import cross_val_score\n",
        "from sklearn.model_selection import GridSearchCV"
      ],
      "metadata": {
        "id": "t3vdk_BVGyQ9"
      },
      "execution_count": 1,
      "outputs": []
    },
    {
      "cell_type": "code",
      "source": [
        "import warnings\n",
        "warnings.filterwarnings('ignore')"
      ],
      "metadata": {
        "id": "pgple6CJpRoe"
      },
      "execution_count": 2,
      "outputs": []
    },
    {
      "cell_type": "markdown",
      "source": [
        "# Uploading Dataset"
      ],
      "metadata": {
        "id": "WQAIsT9IOBb2"
      }
    },
    {
      "cell_type": "code",
      "source": [
        "data_set=pandas.read_csv('drug200.xls')"
      ],
      "metadata": {
        "id": "7vQQ9usnOKOL"
      },
      "execution_count": 3,
      "outputs": []
    },
    {
      "cell_type": "markdown",
      "source": [
        "# Data Analysis (Exploratory)"
      ],
      "metadata": {
        "id": "qkV4nP56Ojvd"
      }
    },
    {
      "cell_type": "code",
      "source": [
        "data_set.shape"
      ],
      "metadata": {
        "id": "ZgZqo6uyOv4O",
        "colab": {
          "base_uri": "https://localhost:8080/"
        },
        "outputId": "b4814ab0-3f23-4b9e-ae91-76d4644b0e36"
      },
      "execution_count": 4,
      "outputs": [
        {
          "output_type": "execute_result",
          "data": {
            "text/plain": [
              "(200, 6)"
            ]
          },
          "metadata": {},
          "execution_count": 4
        }
      ]
    },
    {
      "cell_type": "code",
      "source": [
        "data_set.head()"
      ],
      "metadata": {
        "id": "fdzlY8WQOwkv",
        "colab": {
          "base_uri": "https://localhost:8080/",
          "height": 206
        },
        "outputId": "92329fc3-e117-4083-e553-7cce6954b7b9"
      },
      "execution_count": 5,
      "outputs": [
        {
          "output_type": "execute_result",
          "data": {
            "text/plain": [
              "   Age Sex      BP Cholesterol  Na_to_K   Drug\n",
              "0   23   F    HIGH        HIGH   25.355  DrugY\n",
              "1   47   M     LOW        HIGH   13.093  drugC\n",
              "2   47   M     LOW        HIGH   10.114  drugC\n",
              "3   28   F  NORMAL        HIGH    7.798  drugX\n",
              "4   61   F     LOW        HIGH   18.043  DrugY"
            ],
            "text/html": [
              "\n",
              "  <div id=\"df-0c058900-06c1-4bad-9c7d-7428516862ea\" class=\"colab-df-container\">\n",
              "    <div>\n",
              "<style scoped>\n",
              "    .dataframe tbody tr th:only-of-type {\n",
              "        vertical-align: middle;\n",
              "    }\n",
              "\n",
              "    .dataframe tbody tr th {\n",
              "        vertical-align: top;\n",
              "    }\n",
              "\n",
              "    .dataframe thead th {\n",
              "        text-align: right;\n",
              "    }\n",
              "</style>\n",
              "<table border=\"1\" class=\"dataframe\">\n",
              "  <thead>\n",
              "    <tr style=\"text-align: right;\">\n",
              "      <th></th>\n",
              "      <th>Age</th>\n",
              "      <th>Sex</th>\n",
              "      <th>BP</th>\n",
              "      <th>Cholesterol</th>\n",
              "      <th>Na_to_K</th>\n",
              "      <th>Drug</th>\n",
              "    </tr>\n",
              "  </thead>\n",
              "  <tbody>\n",
              "    <tr>\n",
              "      <th>0</th>\n",
              "      <td>23</td>\n",
              "      <td>F</td>\n",
              "      <td>HIGH</td>\n",
              "      <td>HIGH</td>\n",
              "      <td>25.355</td>\n",
              "      <td>DrugY</td>\n",
              "    </tr>\n",
              "    <tr>\n",
              "      <th>1</th>\n",
              "      <td>47</td>\n",
              "      <td>M</td>\n",
              "      <td>LOW</td>\n",
              "      <td>HIGH</td>\n",
              "      <td>13.093</td>\n",
              "      <td>drugC</td>\n",
              "    </tr>\n",
              "    <tr>\n",
              "      <th>2</th>\n",
              "      <td>47</td>\n",
              "      <td>M</td>\n",
              "      <td>LOW</td>\n",
              "      <td>HIGH</td>\n",
              "      <td>10.114</td>\n",
              "      <td>drugC</td>\n",
              "    </tr>\n",
              "    <tr>\n",
              "      <th>3</th>\n",
              "      <td>28</td>\n",
              "      <td>F</td>\n",
              "      <td>NORMAL</td>\n",
              "      <td>HIGH</td>\n",
              "      <td>7.798</td>\n",
              "      <td>drugX</td>\n",
              "    </tr>\n",
              "    <tr>\n",
              "      <th>4</th>\n",
              "      <td>61</td>\n",
              "      <td>F</td>\n",
              "      <td>LOW</td>\n",
              "      <td>HIGH</td>\n",
              "      <td>18.043</td>\n",
              "      <td>DrugY</td>\n",
              "    </tr>\n",
              "  </tbody>\n",
              "</table>\n",
              "</div>\n",
              "    <div class=\"colab-df-buttons\">\n",
              "\n",
              "  <div class=\"colab-df-container\">\n",
              "    <button class=\"colab-df-convert\" onclick=\"convertToInteractive('df-0c058900-06c1-4bad-9c7d-7428516862ea')\"\n",
              "            title=\"Convert this dataframe to an interactive table.\"\n",
              "            style=\"display:none;\">\n",
              "\n",
              "  <svg xmlns=\"http://www.w3.org/2000/svg\" height=\"24px\" viewBox=\"0 -960 960 960\">\n",
              "    <path d=\"M120-120v-720h720v720H120Zm60-500h600v-160H180v160Zm220 220h160v-160H400v160Zm0 220h160v-160H400v160ZM180-400h160v-160H180v160Zm440 0h160v-160H620v160ZM180-180h160v-160H180v160Zm440 0h160v-160H620v160Z\"/>\n",
              "  </svg>\n",
              "    </button>\n",
              "\n",
              "  <style>\n",
              "    .colab-df-container {\n",
              "      display:flex;\n",
              "      gap: 12px;\n",
              "    }\n",
              "\n",
              "    .colab-df-convert {\n",
              "      background-color: #E8F0FE;\n",
              "      border: none;\n",
              "      border-radius: 50%;\n",
              "      cursor: pointer;\n",
              "      display: none;\n",
              "      fill: #1967D2;\n",
              "      height: 32px;\n",
              "      padding: 0 0 0 0;\n",
              "      width: 32px;\n",
              "    }\n",
              "\n",
              "    .colab-df-convert:hover {\n",
              "      background-color: #E2EBFA;\n",
              "      box-shadow: 0px 1px 2px rgba(60, 64, 67, 0.3), 0px 1px 3px 1px rgba(60, 64, 67, 0.15);\n",
              "      fill: #174EA6;\n",
              "    }\n",
              "\n",
              "    .colab-df-buttons div {\n",
              "      margin-bottom: 4px;\n",
              "    }\n",
              "\n",
              "    [theme=dark] .colab-df-convert {\n",
              "      background-color: #3B4455;\n",
              "      fill: #D2E3FC;\n",
              "    }\n",
              "\n",
              "    [theme=dark] .colab-df-convert:hover {\n",
              "      background-color: #434B5C;\n",
              "      box-shadow: 0px 1px 3px 1px rgba(0, 0, 0, 0.15);\n",
              "      filter: drop-shadow(0px 1px 2px rgba(0, 0, 0, 0.3));\n",
              "      fill: #FFFFFF;\n",
              "    }\n",
              "  </style>\n",
              "\n",
              "    <script>\n",
              "      const buttonEl =\n",
              "        document.querySelector('#df-0c058900-06c1-4bad-9c7d-7428516862ea button.colab-df-convert');\n",
              "      buttonEl.style.display =\n",
              "        google.colab.kernel.accessAllowed ? 'block' : 'none';\n",
              "\n",
              "      async function convertToInteractive(key) {\n",
              "        const element = document.querySelector('#df-0c058900-06c1-4bad-9c7d-7428516862ea');\n",
              "        const dataTable =\n",
              "          await google.colab.kernel.invokeFunction('convertToInteractive',\n",
              "                                                    [key], {});\n",
              "        if (!dataTable) return;\n",
              "\n",
              "        const docLinkHtml = 'Like what you see? Visit the ' +\n",
              "          '<a target=\"_blank\" href=https://colab.research.google.com/notebooks/data_table.ipynb>data table notebook</a>'\n",
              "          + ' to learn more about interactive tables.';\n",
              "        element.innerHTML = '';\n",
              "        dataTable['output_type'] = 'display_data';\n",
              "        await google.colab.output.renderOutput(dataTable, element);\n",
              "        const docLink = document.createElement('div');\n",
              "        docLink.innerHTML = docLinkHtml;\n",
              "        element.appendChild(docLink);\n",
              "      }\n",
              "    </script>\n",
              "  </div>\n",
              "\n",
              "\n",
              "<div id=\"df-550dced4-58b5-49d8-9458-305e08aa5cdc\">\n",
              "  <button class=\"colab-df-quickchart\" onclick=\"quickchart('df-550dced4-58b5-49d8-9458-305e08aa5cdc')\"\n",
              "            title=\"Suggest charts\"\n",
              "            style=\"display:none;\">\n",
              "\n",
              "<svg xmlns=\"http://www.w3.org/2000/svg\" height=\"24px\"viewBox=\"0 0 24 24\"\n",
              "     width=\"24px\">\n",
              "    <g>\n",
              "        <path d=\"M19 3H5c-1.1 0-2 .9-2 2v14c0 1.1.9 2 2 2h14c1.1 0 2-.9 2-2V5c0-1.1-.9-2-2-2zM9 17H7v-7h2v7zm4 0h-2V7h2v10zm4 0h-2v-4h2v4z\"/>\n",
              "    </g>\n",
              "</svg>\n",
              "  </button>\n",
              "\n",
              "<style>\n",
              "  .colab-df-quickchart {\n",
              "      --bg-color: #E8F0FE;\n",
              "      --fill-color: #1967D2;\n",
              "      --hover-bg-color: #E2EBFA;\n",
              "      --hover-fill-color: #174EA6;\n",
              "      --disabled-fill-color: #AAA;\n",
              "      --disabled-bg-color: #DDD;\n",
              "  }\n",
              "\n",
              "  [theme=dark] .colab-df-quickchart {\n",
              "      --bg-color: #3B4455;\n",
              "      --fill-color: #D2E3FC;\n",
              "      --hover-bg-color: #434B5C;\n",
              "      --hover-fill-color: #FFFFFF;\n",
              "      --disabled-bg-color: #3B4455;\n",
              "      --disabled-fill-color: #666;\n",
              "  }\n",
              "\n",
              "  .colab-df-quickchart {\n",
              "    background-color: var(--bg-color);\n",
              "    border: none;\n",
              "    border-radius: 50%;\n",
              "    cursor: pointer;\n",
              "    display: none;\n",
              "    fill: var(--fill-color);\n",
              "    height: 32px;\n",
              "    padding: 0;\n",
              "    width: 32px;\n",
              "  }\n",
              "\n",
              "  .colab-df-quickchart:hover {\n",
              "    background-color: var(--hover-bg-color);\n",
              "    box-shadow: 0 1px 2px rgba(60, 64, 67, 0.3), 0 1px 3px 1px rgba(60, 64, 67, 0.15);\n",
              "    fill: var(--button-hover-fill-color);\n",
              "  }\n",
              "\n",
              "  .colab-df-quickchart-complete:disabled,\n",
              "  .colab-df-quickchart-complete:disabled:hover {\n",
              "    background-color: var(--disabled-bg-color);\n",
              "    fill: var(--disabled-fill-color);\n",
              "    box-shadow: none;\n",
              "  }\n",
              "\n",
              "  .colab-df-spinner {\n",
              "    border: 2px solid var(--fill-color);\n",
              "    border-color: transparent;\n",
              "    border-bottom-color: var(--fill-color);\n",
              "    animation:\n",
              "      spin 1s steps(1) infinite;\n",
              "  }\n",
              "\n",
              "  @keyframes spin {\n",
              "    0% {\n",
              "      border-color: transparent;\n",
              "      border-bottom-color: var(--fill-color);\n",
              "      border-left-color: var(--fill-color);\n",
              "    }\n",
              "    20% {\n",
              "      border-color: transparent;\n",
              "      border-left-color: var(--fill-color);\n",
              "      border-top-color: var(--fill-color);\n",
              "    }\n",
              "    30% {\n",
              "      border-color: transparent;\n",
              "      border-left-color: var(--fill-color);\n",
              "      border-top-color: var(--fill-color);\n",
              "      border-right-color: var(--fill-color);\n",
              "    }\n",
              "    40% {\n",
              "      border-color: transparent;\n",
              "      border-right-color: var(--fill-color);\n",
              "      border-top-color: var(--fill-color);\n",
              "    }\n",
              "    60% {\n",
              "      border-color: transparent;\n",
              "      border-right-color: var(--fill-color);\n",
              "    }\n",
              "    80% {\n",
              "      border-color: transparent;\n",
              "      border-right-color: var(--fill-color);\n",
              "      border-bottom-color: var(--fill-color);\n",
              "    }\n",
              "    90% {\n",
              "      border-color: transparent;\n",
              "      border-bottom-color: var(--fill-color);\n",
              "    }\n",
              "  }\n",
              "</style>\n",
              "\n",
              "  <script>\n",
              "    async function quickchart(key) {\n",
              "      const quickchartButtonEl =\n",
              "        document.querySelector('#' + key + ' button');\n",
              "      quickchartButtonEl.disabled = true;  // To prevent multiple clicks.\n",
              "      quickchartButtonEl.classList.add('colab-df-spinner');\n",
              "      try {\n",
              "        const charts = await google.colab.kernel.invokeFunction(\n",
              "            'suggestCharts', [key], {});\n",
              "      } catch (error) {\n",
              "        console.error('Error during call to suggestCharts:', error);\n",
              "      }\n",
              "      quickchartButtonEl.classList.remove('colab-df-spinner');\n",
              "      quickchartButtonEl.classList.add('colab-df-quickchart-complete');\n",
              "    }\n",
              "    (() => {\n",
              "      let quickchartButtonEl =\n",
              "        document.querySelector('#df-550dced4-58b5-49d8-9458-305e08aa5cdc button');\n",
              "      quickchartButtonEl.style.display =\n",
              "        google.colab.kernel.accessAllowed ? 'block' : 'none';\n",
              "    })();\n",
              "  </script>\n",
              "</div>\n",
              "    </div>\n",
              "  </div>\n"
            ],
            "application/vnd.google.colaboratory.intrinsic+json": {
              "type": "dataframe",
              "variable_name": "data_set",
              "summary": "{\n  \"name\": \"data_set\",\n  \"rows\": 200,\n  \"fields\": [\n    {\n      \"column\": \"Age\",\n      \"properties\": {\n        \"dtype\": \"number\",\n        \"std\": 16,\n        \"min\": 15,\n        \"max\": 74,\n        \"num_unique_values\": 57,\n        \"samples\": [\n          23,\n          49,\n          37\n        ],\n        \"semantic_type\": \"\",\n        \"description\": \"\"\n      }\n    },\n    {\n      \"column\": \"Sex\",\n      \"properties\": {\n        \"dtype\": \"category\",\n        \"num_unique_values\": 2,\n        \"samples\": [\n          \"M\",\n          \"F\"\n        ],\n        \"semantic_type\": \"\",\n        \"description\": \"\"\n      }\n    },\n    {\n      \"column\": \"BP\",\n      \"properties\": {\n        \"dtype\": \"category\",\n        \"num_unique_values\": 3,\n        \"samples\": [\n          \"HIGH\",\n          \"LOW\"\n        ],\n        \"semantic_type\": \"\",\n        \"description\": \"\"\n      }\n    },\n    {\n      \"column\": \"Cholesterol\",\n      \"properties\": {\n        \"dtype\": \"category\",\n        \"num_unique_values\": 2,\n        \"samples\": [\n          \"NORMAL\",\n          \"HIGH\"\n        ],\n        \"semantic_type\": \"\",\n        \"description\": \"\"\n      }\n    },\n    {\n      \"column\": \"Na_to_K\",\n      \"properties\": {\n        \"dtype\": \"number\",\n        \"std\": 7.223955528459516,\n        \"min\": 6.269,\n        \"max\": 38.247,\n        \"num_unique_values\": 198,\n        \"samples\": [\n          27.05,\n          9.281\n        ],\n        \"semantic_type\": \"\",\n        \"description\": \"\"\n      }\n    },\n    {\n      \"column\": \"Drug\",\n      \"properties\": {\n        \"dtype\": \"category\",\n        \"num_unique_values\": 5,\n        \"samples\": [\n          \"drugC\",\n          \"drugB\"\n        ],\n        \"semantic_type\": \"\",\n        \"description\": \"\"\n      }\n    }\n  ]\n}"
            }
          },
          "metadata": {},
          "execution_count": 5
        }
      ]
    },
    {
      "cell_type": "code",
      "source": [
        "data_set.isnull().sum()"
      ],
      "metadata": {
        "id": "Oj6z1HEnOyR5",
        "colab": {
          "base_uri": "https://localhost:8080/"
        },
        "outputId": "facb5a25-81d9-4d24-bb47-8dd455980832"
      },
      "execution_count": 6,
      "outputs": [
        {
          "output_type": "execute_result",
          "data": {
            "text/plain": [
              "Age            0\n",
              "Sex            0\n",
              "BP             0\n",
              "Cholesterol    0\n",
              "Na_to_K        0\n",
              "Drug           0\n",
              "dtype: int64"
            ]
          },
          "metadata": {},
          "execution_count": 6
        }
      ]
    },
    {
      "cell_type": "code",
      "source": [
        "data_set.isna().sum()"
      ],
      "metadata": {
        "id": "gVKE-S4vOzN5",
        "colab": {
          "base_uri": "https://localhost:8080/"
        },
        "outputId": "923e3489-573f-4a34-f59a-0e3bb62ad697"
      },
      "execution_count": 7,
      "outputs": [
        {
          "output_type": "execute_result",
          "data": {
            "text/plain": [
              "Age            0\n",
              "Sex            0\n",
              "BP             0\n",
              "Cholesterol    0\n",
              "Na_to_K        0\n",
              "Drug           0\n",
              "dtype: int64"
            ]
          },
          "metadata": {},
          "execution_count": 7
        }
      ]
    },
    {
      "cell_type": "markdown",
      "source": [
        "No missing or null values in the data set\n",
        "\n",
        "Data Variables : 200\n",
        "\n",
        "Features: 6(including the label)\n"
      ],
      "metadata": {
        "id": "RF1B6oyTObnm"
      }
    },
    {
      "cell_type": "markdown",
      "source": [
        "## Feature Analysis"
      ],
      "metadata": {
        "id": "NVCb-aTlO921"
      }
    },
    {
      "cell_type": "code",
      "source": [
        "data_set.info()"
      ],
      "metadata": {
        "id": "Gw2x8NPrPGlv",
        "colab": {
          "base_uri": "https://localhost:8080/"
        },
        "outputId": "736d380c-6513-40d2-e73a-d894a6b6a4a7"
      },
      "execution_count": 8,
      "outputs": [
        {
          "output_type": "stream",
          "name": "stdout",
          "text": [
            "<class 'pandas.core.frame.DataFrame'>\n",
            "RangeIndex: 200 entries, 0 to 199\n",
            "Data columns (total 6 columns):\n",
            " #   Column       Non-Null Count  Dtype  \n",
            "---  ------       --------------  -----  \n",
            " 0   Age          200 non-null    int64  \n",
            " 1   Sex          200 non-null    object \n",
            " 2   BP           200 non-null    object \n",
            " 3   Cholesterol  200 non-null    object \n",
            " 4   Na_to_K      200 non-null    float64\n",
            " 5   Drug         200 non-null    object \n",
            "dtypes: float64(1), int64(1), object(4)\n",
            "memory usage: 9.5+ KB\n"
          ]
        }
      ]
    },
    {
      "cell_type": "markdown",
      "source": [
        "## Age:"
      ],
      "metadata": {
        "id": "sxB9rLtwPWYI"
      }
    },
    {
      "cell_type": "markdown",
      "source": [
        "Age of the patients"
      ],
      "metadata": {
        "id": "xo7mxg2XPdmI"
      }
    },
    {
      "cell_type": "code",
      "source": [
        "ages=data_set['Age']\n",
        "maximum_age=numpy.max(ages)\n",
        "minimum_age=numpy.min(ages)\n",
        "print(\"Maximum age: \",maximum_age)\n",
        "print(\"Minimum age: \",minimum_age)"
      ],
      "metadata": {
        "id": "pZaPx-XAPm7m",
        "colab": {
          "base_uri": "https://localhost:8080/"
        },
        "outputId": "9992b480-279e-41e4-f7ca-31d0e0b7bd04"
      },
      "execution_count": 9,
      "outputs": [
        {
          "output_type": "stream",
          "name": "stdout",
          "text": [
            "Maximum age:  74\n",
            "Minimum age:  15\n"
          ]
        }
      ]
    },
    {
      "cell_type": "code",
      "source": [
        "age=data_set['Age']\n",
        "seaborn.displot(age)"
      ],
      "metadata": {
        "id": "_nx3pmLRPoJk",
        "colab": {
          "base_uri": "https://localhost:8080/",
          "height": 523
        },
        "outputId": "4df4a3d9-48d0-47cd-c035-e2dd3a2f7913"
      },
      "execution_count": 10,
      "outputs": [
        {
          "output_type": "execute_result",
          "data": {
            "text/plain": [
              "<seaborn.axisgrid.FacetGrid at 0x7ded9a086fe0>"
            ]
          },
          "metadata": {},
          "execution_count": 10
        },
        {
          "output_type": "display_data",
          "data": {
            "text/plain": [
              "<Figure size 500x500 with 1 Axes>"
            ],
            "image/png": "[encoded data removed]"
          },
          "metadata": {}
        }
      ]
    },
    {
      "cell_type": "markdown",
      "source": [
        "Age Range : 15-74"
      ],
      "metadata": {
        "id": "_fvAHfJBR1rI"
      }
    },
    {
      "cell_type": "markdown",
      "source": [
        "## Sex:"
      ],
      "metadata": {
        "id": "VbADL17bPrbc"
      }
    },
    {
      "cell_type": "markdown",
      "source": [
        "Sex of the patients"
      ],
      "metadata": {
        "id": "BUoW5mXNPzNm"
      }
    },
    {
      "cell_type": "code",
      "source": [
        "ds=data_set.groupby('Sex').size()\n",
        "print(ds)"
      ],
      "metadata": {
        "id": "Z-gM4_6_P48u",
        "colab": {
          "base_uri": "https://localhost:8080/"
        },
        "outputId": "7a4692a2-db95-4d58-ed6a-2127f2146fb1"
      },
      "execution_count": 11,
      "outputs": [
        {
          "output_type": "stream",
          "name": "stdout",
          "text": [
            "Sex\n",
            "F     96\n",
            "M    104\n",
            "dtype: int64\n"
          ]
        }
      ]
    },
    {
      "cell_type": "code",
      "source": [
        "s=data_set['Sex']\n",
        "seaborn.countplot(s)"
      ],
      "metadata": {
        "id": "CiFJvwbbP5X-",
        "colab": {
          "base_uri": "https://localhost:8080/",
          "height": 466
        },
        "outputId": "ec0d5dc2-37d1-4237-9ee8-2bcafe471fe7"
      },
      "execution_count": 12,
      "outputs": [
        {
          "output_type": "execute_result",
          "data": {
            "text/plain": [
              "<Axes: xlabel='count', ylabel='Sex'>"
            ]
          },
          "metadata": {},
          "execution_count": 12
        },
        {
          "output_type": "display_data",
          "data": {
            "text/plain": [
              "<Figure size 640x480 with 1 Axes>"
            ],
            "image/png": "[encoded data removed]"
          },
          "metadata": {}
        }
      ]
    },
    {
      "cell_type": "markdown",
      "source": [
        "The Sex Ratio seems to be balanced.\n",
        "\n",
        "We convert the sex to numeric by label encoder in python as it is categorical value."
      ],
      "metadata": {
        "id": "jJhioA5ySBV9"
      }
    },
    {
      "cell_type": "markdown",
      "source": [
        "## Blood Pressure (BP):"
      ],
      "metadata": {
        "id": "19c27Q7lP714"
      }
    },
    {
      "cell_type": "markdown",
      "source": [
        "Blood Pressure of the patients"
      ],
      "metadata": {
        "id": "Rz4ZtYY7QCL2"
      }
    },
    {
      "cell_type": "code",
      "source": [
        "ds=data_set.groupby('BP').size()\n",
        "print(ds)"
      ],
      "metadata": {
        "id": "R6NzDwX2QKUt",
        "colab": {
          "base_uri": "https://localhost:8080/"
        },
        "outputId": "35cb08ba-013d-4990-f328-c5dad11b5439"
      },
      "execution_count": 13,
      "outputs": [
        {
          "output_type": "stream",
          "name": "stdout",
          "text": [
            "BP\n",
            "HIGH      77\n",
            "LOW       64\n",
            "NORMAL    59\n",
            "dtype: int64\n"
          ]
        }
      ]
    },
    {
      "cell_type": "code",
      "source": [
        "bp=data_set['BP']\n",
        "seaborn.countplot(bp)"
      ],
      "metadata": {
        "id": "UAwoQhTfQK1C",
        "colab": {
          "base_uri": "https://localhost:8080/",
          "height": 466
        },
        "outputId": "a55d1478-0c2f-464f-f072-fdb98e0dc0a5"
      },
      "execution_count": 14,
      "outputs": [
        {
          "output_type": "execute_result",
          "data": {
            "text/plain": [
              "<Axes: xlabel='count', ylabel='BP'>"
            ]
          },
          "metadata": {},
          "execution_count": 14
        },
        {
          "output_type": "display_data",
          "data": {
            "text/plain": [
              "<Figure size 640x480 with 1 Axes>"
            ],
            "image/png": "[encoded data removed]"
          },
          "metadata": {}
        }
      ]
    },
    {
      "cell_type": "markdown",
      "source": [
        "The BP Ratio seems to be balanced.\n",
        "\n",
        "We convert the BP to numeric by label encoder in python as it is categorical value."
      ],
      "metadata": {
        "id": "aCI_6w9sSDfG"
      }
    },
    {
      "cell_type": "markdown",
      "source": [
        "## Cholesterol:"
      ],
      "metadata": {
        "id": "aQ1pXU2IQTy5"
      }
    },
    {
      "cell_type": "markdown",
      "source": [
        "Cholesterol of the patients"
      ],
      "metadata": {
        "id": "ET1bzaZhQZe2"
      }
    },
    {
      "cell_type": "code",
      "source": [
        "ds=data_set.groupby('Cholesterol').size()\n",
        "print(ds)"
      ],
      "metadata": {
        "id": "D57JiSfHQemK",
        "colab": {
          "base_uri": "https://localhost:8080/"
        },
        "outputId": "75216d72-bc50-4186-9afd-318aa32d094a"
      },
      "execution_count": 15,
      "outputs": [
        {
          "output_type": "stream",
          "name": "stdout",
          "text": [
            "Cholesterol\n",
            "HIGH      103\n",
            "NORMAL     97\n",
            "dtype: int64\n"
          ]
        }
      ]
    },
    {
      "cell_type": "code",
      "source": [
        "ch=data_set['Cholesterol']\n",
        "seaborn.countplot(ch)"
      ],
      "metadata": {
        "id": "zPgQ-oH8QfCn",
        "colab": {
          "base_uri": "https://localhost:8080/",
          "height": 466
        },
        "outputId": "63266c9b-fcae-4e9c-94dc-6fba3d8f131a"
      },
      "execution_count": 16,
      "outputs": [
        {
          "output_type": "execute_result",
          "data": {
            "text/plain": [
              "<Axes: xlabel='count', ylabel='Cholesterol'>"
            ]
          },
          "metadata": {},
          "execution_count": 16
        },
        {
          "output_type": "display_data",
          "data": {
            "text/plain": [
              "<Figure size 640x480 with 1 Axes>"
            ],
            "image/png": "[encoded data removed]"
          },
          "metadata": {}
        }
      ]
    },
    {
      "cell_type": "markdown",
      "source": [
        "The Cholesterol Ratio seems to be balanced.\n",
        "\n",
        "We convert the Cholesterol to numeric by label encoder in python as it is categorical value."
      ],
      "metadata": {
        "id": "I3mnruQhSFSu"
      }
    },
    {
      "cell_type": "markdown",
      "source": [
        "## Na_to_K:"
      ],
      "metadata": {
        "id": "27enHSu7QqHi"
      }
    },
    {
      "cell_type": "markdown",
      "source": [
        "Sodium-Potassium ration in patient's blood"
      ],
      "metadata": {
        "id": "NZGdqoCxRIua"
      }
    },
    {
      "cell_type": "code",
      "source": [
        "max_Na_to_K=max(data_set['Na_to_K'])\n",
        "min_Na_to_K=min(data_set['Na_to_K'])\n",
        "print('Maximum Sodium-Potassium ratio:', max_Na_to_K)\n",
        "print('Minimum Sodium-Potassium ratio:', min_Na_to_K)"
      ],
      "metadata": {
        "id": "XMIaIFJIRRZM",
        "colab": {
          "base_uri": "https://localhost:8080/"
        },
        "outputId": "5c7de435-84c5-4ce2-aaed-3b704c0eb19b"
      },
      "execution_count": 17,
      "outputs": [
        {
          "output_type": "stream",
          "name": "stdout",
          "text": [
            "Maximum Sodium-Potassium ratio: 38.247\n",
            "Minimum Sodium-Potassium ratio: 6.269\n"
          ]
        }
      ]
    },
    {
      "cell_type": "code",
      "source": [
        "NaK=data_set['Na_to_K']\n",
        "seaborn.displot(NaK)"
      ],
      "metadata": {
        "id": "p3exElQeRRvd",
        "colab": {
          "base_uri": "https://localhost:8080/",
          "height": 524
        },
        "outputId": "3913d6da-b4be-4dbf-fb91-cfae492cc2ec"
      },
      "execution_count": 18,
      "outputs": [
        {
          "output_type": "execute_result",
          "data": {
            "text/plain": [
              "<seaborn.axisgrid.FacetGrid at 0x7dedd9f6baf0>"
            ]
          },
          "metadata": {},
          "execution_count": 18
        },
        {
          "output_type": "display_data",
          "data": {
            "text/plain": [
              "<Figure size 500x500 with 1 Axes>"
            ],
            "image/png": "[encoded data removed]"
          },
          "metadata": {}
        }
      ]
    },
    {
      "cell_type": "markdown",
      "source": [
        "Sodium-Potassium ratio ranges from 6.269 to 38.247"
      ],
      "metadata": {
        "id": "7e5InZuXSI7q"
      }
    },
    {
      "cell_type": "markdown",
      "source": [
        "## Drug:"
      ],
      "metadata": {
        "id": "Zqke5V8gRUim"
      }
    },
    {
      "cell_type": "markdown",
      "source": [
        "Drug administered to the patients"
      ],
      "metadata": {
        "id": "hN7VQM9ZRYu4"
      }
    },
    {
      "cell_type": "code",
      "source": [
        "ds=data_set.groupby('Drug').size()\n",
        "print(ds)"
      ],
      "metadata": {
        "id": "eBhbS57yRjBi",
        "colab": {
          "base_uri": "https://localhost:8080/"
        },
        "outputId": "ae8d573b-8637-4637-9965-f57b476bb67d"
      },
      "execution_count": 19,
      "outputs": [
        {
          "output_type": "stream",
          "name": "stdout",
          "text": [
            "Drug\n",
            "DrugY    91\n",
            "drugA    23\n",
            "drugB    16\n",
            "drugC    16\n",
            "drugX    54\n",
            "dtype: int64\n"
          ]
        }
      ]
    },
    {
      "cell_type": "code",
      "source": [
        "drug=data_set['Drug']\n",
        "seaborn.countplot(drug)"
      ],
      "metadata": {
        "id": "eSaWrgpNRjZr",
        "colab": {
          "base_uri": "https://localhost:8080/",
          "height": 466
        },
        "outputId": "57dd6047-5376-491a-ab37-a913e55476aa"
      },
      "execution_count": 20,
      "outputs": [
        {
          "output_type": "execute_result",
          "data": {
            "text/plain": [
              "<Axes: xlabel='count', ylabel='Drug'>"
            ]
          },
          "metadata": {},
          "execution_count": 20
        },
        {
          "output_type": "display_data",
          "data": {
            "text/plain": [
              "<Figure size 640x480 with 1 Axes>"
            ],
            "image/png": "[encoded data removed]"
          },
          "metadata": {}
        }
      ]
    },
    {
      "cell_type": "markdown",
      "source": [
        "Target column(value): Drug"
      ],
      "metadata": {
        "id": "GKB2wsw3SK4e"
      }
    },
    {
      "cell_type": "markdown",
      "source": [
        "# Relationship (Features-Target Value)"
      ],
      "metadata": {
        "id": "WfIhgwrhSNZm"
      }
    },
    {
      "cell_type": "markdown",
      "source": [
        "## Age to Drug"
      ],
      "metadata": {
        "id": "ujfqNOSNTQCu"
      }
    },
    {
      "cell_type": "code",
      "source": [
        "seaborn.catplot(x=\"Drug\", y=\"Age\", data=data_set, kind=\"swarm\")\n",
        "plt.title(\"Age to Drug\")"
      ],
      "metadata": {
        "id": "34D4BGCITYhG",
        "colab": {
          "base_uri": "https://localhost:8080/",
          "height": 546
        },
        "outputId": "b444ecee-e5e8-43b4-b35d-546ce44ce697"
      },
      "execution_count": 21,
      "outputs": [
        {
          "output_type": "execute_result",
          "data": {
            "text/plain": [
              "Text(0.5, 1.0, 'Age to Drug')"
            ]
          },
          "metadata": {},
          "execution_count": 21
        },
        {
          "output_type": "display_data",
          "data": {
            "text/plain": [
              "<Figure size 511.111x500 with 1 Axes>"
            ],
            "image/png": "[encoded data removed]"
          },
          "metadata": {}
        }
      ]
    },
    {
      "cell_type": "code",
      "source": [
        "max_age_A=data_set.Age[data_set.Drug==\"drugA\"].max()\n",
        "min_age_B=data_set.Age[data_set.Drug==\"drugB\"].min()\n",
        "print('Maximum Age for adminstrating Drug A:', max_age_A)\n",
        "print('Minimum Age for adminstrating Drug B:', min_age_B)"
      ],
      "metadata": {
        "id": "SbTyGJBlTaDb",
        "colab": {
          "base_uri": "https://localhost:8080/"
        },
        "outputId": "66f7f71e-c7dc-44b7-8add-a5be468d843d"
      },
      "execution_count": 22,
      "outputs": [
        {
          "output_type": "stream",
          "name": "stdout",
          "text": [
            "Maximum Age for adminstrating Drug A: 50\n",
            "Minimum Age for adminstrating Drug B: 51\n"
          ]
        }
      ]
    },
    {
      "cell_type": "markdown",
      "source": [
        "Adminstration of Drug A is being to pateints below 50 years\n",
        "\n",
        "Adminstration of Drug B is being to pateints above 51 years"
      ],
      "metadata": {
        "id": "nn8x50MbTbLT"
      }
    },
    {
      "cell_type": "markdown",
      "source": [
        "## Sex to Drug"
      ],
      "metadata": {
        "id": "rVOVQcDmTeUK"
      }
    },
    {
      "cell_type": "code",
      "source": [
        "sd=data_set.groupby(['Drug','Sex'])\n",
        "count_sd=sd.size().reset_index(name='Count')\n",
        "seaborn.catplot(x=\"Drug\",y=\"Count\",hue='Sex',data=count_sd, kind='bar')\n",
        "plt.title(\"Sex to Drug\")"
      ],
      "metadata": {
        "id": "gTbSvBnjToOn",
        "colab": {
          "base_uri": "https://localhost:8080/",
          "height": 546
        },
        "outputId": "a2cf310d-8957-4757-f50d-12e520a1fb1f"
      },
      "execution_count": 23,
      "outputs": [
        {
          "output_type": "execute_result",
          "data": {
            "text/plain": [
              "Text(0.5, 1.0, 'Sex to Drug')"
            ]
          },
          "metadata": {},
          "execution_count": 23
        },
        {
          "output_type": "display_data",
          "data": {
            "text/plain": [
              "<Figure size 562x500 with 1 Axes>"
            ],
            "image/png": "[encoded data removed]"
          },
          "metadata": {}
        }
      ]
    },
    {
      "cell_type": "markdown",
      "source": [
        "This graph determines that-:\n",
        "\n",
        "For classification, the fetaure 'Sex' is not very important."
      ],
      "metadata": {
        "id": "b0gjPKmvtUgo"
      }
    },
    {
      "cell_type": "markdown",
      "source": [
        "## Blood Pressure to Drug"
      ],
      "metadata": {
        "id": "ev_-9taLTww9"
      }
    },
    {
      "cell_type": "code",
      "source": [
        "bpd=data_set.groupby(['Drug','BP'])\n",
        "count_bpd=bpd.size().reset_index(name='Count')\n",
        "seaborn.catplot(x=\"Drug\",y=\"Count\",hue='BP',data=count_bpd, kind='bar')\n",
        "plt.title(\"BP to Drug\")"
      ],
      "metadata": {
        "id": "DgegmCkCT4jq",
        "colab": {
          "base_uri": "https://localhost:8080/",
          "height": 546
        },
        "outputId": "3e7de9d1-311d-4189-80e5-f52a2e68115c"
      },
      "execution_count": 24,
      "outputs": [
        {
          "output_type": "execute_result",
          "data": {
            "text/plain": [
              "Text(0.5, 1.0, 'BP to Drug')"
            ]
          },
          "metadata": {},
          "execution_count": 24
        },
        {
          "output_type": "display_data",
          "data": {
            "text/plain": [
              "<Figure size 610.125x500 with 1 Axes>"
            ],
            "image/png": "[encoded data removed]"
          },
          "metadata": {}
        }
      ]
    },
    {
      "cell_type": "markdown",
      "source": [
        "BP : An important feature for classification\n",
        "\n",
        "High BP : Drug A and Drug B\n",
        "\n",
        "Low BP  : Drug C"
      ],
      "metadata": {
        "id": "Or8bjxFYT5fU"
      }
    },
    {
      "cell_type": "markdown",
      "source": [
        "## Cholesterol to Drug"
      ],
      "metadata": {
        "id": "Lf0oY5TPT67J"
      }
    },
    {
      "cell_type": "code",
      "source": [
        "chd=data_set.groupby(['Drug','Cholesterol'])\n",
        "count_chd=chd.size().reset_index(name='Count')\n",
        "seaborn.catplot(x=\"Drug\",y=\"Count\",hue='Cholesterol',data=count_chd, kind='bar')"
      ],
      "metadata": {
        "id": "rr5McXq9UFTb",
        "colab": {
          "base_uri": "https://localhost:8080/",
          "height": 523
        },
        "outputId": "6dc74391-78ac-456a-bc87-9f02622ee8a9"
      },
      "execution_count": 25,
      "outputs": [
        {
          "output_type": "execute_result",
          "data": {
            "text/plain": [
              "<seaborn.axisgrid.FacetGrid at 0x7ded97821ed0>"
            ]
          },
          "metadata": {},
          "execution_count": 25
        },
        {
          "output_type": "display_data",
          "data": {
            "text/plain": [
              "<Figure size 610.125x500 with 1 Axes>"
            ],
            "image/png": "[encoded data removed]"
          },
          "metadata": {}
        }
      ]
    },
    {
      "cell_type": "markdown",
      "source": [
        "Cholesterol : An important feature for classification of Drug C\n",
        "\n",
        "High Cholesterol : Drug c\n"
      ],
      "metadata": {
        "id": "Tm2-WBcqUGmY"
      }
    },
    {
      "cell_type": "markdown",
      "source": [
        "## Na_to_K to Drug"
      ],
      "metadata": {
        "id": "etdyx1u8UJkC"
      }
    },
    {
      "cell_type": "code",
      "source": [
        "seaborn.catplot(x=\"Drug\", y=\"Na_to_K\", data=data_set, kind='swarm')\n",
        "plt.title(\"Na_to_K - Drug\")"
      ],
      "metadata": {
        "id": "kRa18Mw3UYWl",
        "colab": {
          "base_uri": "https://localhost:8080/",
          "height": 546
        },
        "outputId": "18a5762d-740e-418f-a8b5-24b79c37162c"
      },
      "execution_count": 26,
      "outputs": [
        {
          "output_type": "execute_result",
          "data": {
            "text/plain": [
              "Text(0.5, 1.0, 'Na_to_K - Drug')"
            ]
          },
          "metadata": {},
          "execution_count": 26
        },
        {
          "output_type": "display_data",
          "data": {
            "text/plain": [
              "<Figure size 511.111x500 with 1 Axes>"
            ],
            "image/png": "[encoded data removed]"
          },
          "metadata": {}
        }
      ]
    },
    {
      "cell_type": "code",
      "source": [
        "min_Na_to_k=data_set.Na_to_K[data_set.Drug==\"DrugY\"].min()\n",
        "print(\"Minimum value of Na_to_K for DrugY:\", min_Na_to_k)"
      ],
      "metadata": {
        "id": "t6AvRf4DUbPk",
        "colab": {
          "base_uri": "https://localhost:8080/"
        },
        "outputId": "9ca5297d-966d-444b-c012-c1a37dd35491"
      },
      "execution_count": 27,
      "outputs": [
        {
          "output_type": "stream",
          "name": "stdout",
          "text": [
            "Minimum value of Na_to_K for DrugY: 15.015\n"
          ]
        }
      ]
    },
    {
      "cell_type": "markdown",
      "source": [
        "For better classification of Drug Y, a new can be created from this feature.\n",
        "\n",
        "Na_to_K ratio > 15 : Drug Y"
      ],
      "metadata": {
        "id": "vJJpkMoIUbw7"
      }
    },
    {
      "cell_type": "markdown",
      "source": [
        "# Data Pre-Processing"
      ],
      "metadata": {
        "id": "scIINpYZVRmp"
      }
    },
    {
      "cell_type": "markdown",
      "source": [
        "## Feature Engineering"
      ],
      "metadata": {
        "id": "mW9W6Vf9Zzu1"
      }
    },
    {
      "cell_type": "code",
      "source": [
        "data_set['Na_to_K>15']=numpy.where(data_set['Na_to_K']>15,1,0)"
      ],
      "metadata": {
        "id": "XhmUuClAZ6sx"
      },
      "execution_count": 28,
      "outputs": []
    },
    {
      "cell_type": "markdown",
      "source": [
        "## Label Encoding"
      ],
      "metadata": {
        "id": "5JaC0voqaXTM"
      }
    },
    {
      "cell_type": "code",
      "source": [
        "from sklearn import preprocessing\n",
        "label=preprocessing.LabelEncoder()"
      ],
      "metadata": {
        "id": "c6dZrUoPajE0"
      },
      "execution_count": 29,
      "outputs": []
    },
    {
      "cell_type": "code",
      "source": [
        "label_encode_list=['Sex','BP','Cholesterol','Na_to_K>15','Drug']\n",
        "for i in label_encode_list:\n",
        "  data_set[i]=label.fit_transform(data_set[i])"
      ],
      "metadata": {
        "id": "zz3NAUT1ayKp"
      },
      "execution_count": 30,
      "outputs": []
    },
    {
      "cell_type": "code",
      "source": [
        "data_set.head()"
      ],
      "metadata": {
        "id": "jcDYsKHmezsw",
        "colab": {
          "base_uri": "https://localhost:8080/",
          "height": 206
        },
        "outputId": "e6734eb7-82d2-4b85-eb08-e33c60ae7404"
      },
      "execution_count": 31,
      "outputs": [
        {
          "output_type": "execute_result",
          "data": {
            "text/plain": [
              "   Age  Sex  BP  Cholesterol  Na_to_K  Drug  Na_to_K>15\n",
              "0   23    0   0            0   25.355     0           1\n",
              "1   47    1   1            0   13.093     3           0\n",
              "2   47    1   1            0   10.114     3           0\n",
              "3   28    0   2            0    7.798     4           0\n",
              "4   61    0   1            0   18.043     0           1"
            ],
            "text/html": [
              "\n",
              "  <div id=\"df-49f20585-2efb-4b00-8cab-1737f993881b\" class=\"colab-df-container\">\n",
              "    <div>\n",
              "<style scoped>\n",
              "    .dataframe tbody tr th:only-of-type {\n",
              "        vertical-align: middle;\n",
              "    }\n",
              "\n",
              "    .dataframe tbody tr th {\n",
              "        vertical-align: top;\n",
              "    }\n",
              "\n",
              "    .dataframe thead th {\n",
              "        text-align: right;\n",
              "    }\n",
              "</style>\n",
              "<table border=\"1\" class=\"dataframe\">\n",
              "  <thead>\n",
              "    <tr style=\"text-align: right;\">\n",
              "      <th></th>\n",
              "      <th>Age</th>\n",
              "      <th>Sex</th>\n",
              "      <th>BP</th>\n",
              "      <th>Cholesterol</th>\n",
              "      <th>Na_to_K</th>\n",
              "      <th>Drug</th>\n",
              "      <th>Na_to_K&gt;15</th>\n",
              "    </tr>\n",
              "  </thead>\n",
              "  <tbody>\n",
              "    <tr>\n",
              "      <th>0</th>\n",
              "      <td>23</td>\n",
              "      <td>0</td>\n",
              "      <td>0</td>\n",
              "      <td>0</td>\n",
              "      <td>25.355</td>\n",
              "      <td>0</td>\n",
              "      <td>1</td>\n",
              "    </tr>\n",
              "    <tr>\n",
              "      <th>1</th>\n",
              "      <td>47</td>\n",
              "      <td>1</td>\n",
              "      <td>1</td>\n",
              "      <td>0</td>\n",
              "      <td>13.093</td>\n",
              "      <td>3</td>\n",
              "      <td>0</td>\n",
              "    </tr>\n",
              "    <tr>\n",
              "      <th>2</th>\n",
              "      <td>47</td>\n",
              "      <td>1</td>\n",
              "      <td>1</td>\n",
              "      <td>0</td>\n",
              "      <td>10.114</td>\n",
              "      <td>3</td>\n",
              "      <td>0</td>\n",
              "    </tr>\n",
              "    <tr>\n",
              "      <th>3</th>\n",
              "      <td>28</td>\n",
              "      <td>0</td>\n",
              "      <td>2</td>\n",
              "      <td>0</td>\n",
              "      <td>7.798</td>\n",
              "      <td>4</td>\n",
              "      <td>0</td>\n",
              "    </tr>\n",
              "    <tr>\n",
              "      <th>4</th>\n",
              "      <td>61</td>\n",
              "      <td>0</td>\n",
              "      <td>1</td>\n",
              "      <td>0</td>\n",
              "      <td>18.043</td>\n",
              "      <td>0</td>\n",
              "      <td>1</td>\n",
              "    </tr>\n",
              "  </tbody>\n",
              "</table>\n",
              "</div>\n",
              "    <div class=\"colab-df-buttons\">\n",
              "\n",
              "  <div class=\"colab-df-container\">\n",
              "    <button class=\"colab-df-convert\" onclick=\"convertToInteractive('df-49f20585-2efb-4b00-8cab-1737f993881b')\"\n",
              "            title=\"Convert this dataframe to an interactive table.\"\n",
              "            style=\"display:none;\">\n",
              "\n",
              "  <svg xmlns=\"http://www.w3.org/2000/svg\" height=\"24px\" viewBox=\"0 -960 960 960\">\n",
              "    <path d=\"M120-120v-720h720v720H120Zm60-500h600v-160H180v160Zm220 220h160v-160H400v160Zm0 220h160v-160H400v160ZM180-400h160v-160H180v160Zm440 0h160v-160H620v160ZM180-180h160v-160H180v160Zm440 0h160v-160H620v160Z\"/>\n",
              "  </svg>\n",
              "    </button>\n",
              "\n",
              "  <style>\n",
              "    .colab-df-container {\n",
              "      display:flex;\n",
              "      gap: 12px;\n",
              "    }\n",
              "\n",
              "    .colab-df-convert {\n",
              "      background-color: #E8F0FE;\n",
              "      border: none;\n",
              "      border-radius: 50%;\n",
              "      cursor: pointer;\n",
              "      display: none;\n",
              "      fill: #1967D2;\n",
              "      height: 32px;\n",
              "      padding: 0 0 0 0;\n",
              "      width: 32px;\n",
              "    }\n",
              "\n",
              "    .colab-df-convert:hover {\n",
              "      background-color: #E2EBFA;\n",
              "      box-shadow: 0px 1px 2px rgba(60, 64, 67, 0.3), 0px 1px 3px 1px rgba(60, 64, 67, 0.15);\n",
              "      fill: #174EA6;\n",
              "    }\n",
              "\n",
              "    .colab-df-buttons div {\n",
              "      margin-bottom: 4px;\n",
              "    }\n",
              "\n",
              "    [theme=dark] .colab-df-convert {\n",
              "      background-color: #3B4455;\n",
              "      fill: #D2E3FC;\n",
              "    }\n",
              "\n",
              "    [theme=dark] .colab-df-convert:hover {\n",
              "      background-color: #434B5C;\n",
              "      box-shadow: 0px 1px 3px 1px rgba(0, 0, 0, 0.15);\n",
              "      filter: drop-shadow(0px 1px 2px rgba(0, 0, 0, 0.3));\n",
              "      fill: #FFFFFF;\n",
              "    }\n",
              "  </style>\n",
              "\n",
              "    <script>\n",
              "      const buttonEl =\n",
              "        document.querySelector('#df-49f20585-2efb-4b00-8cab-1737f993881b button.colab-df-convert');\n",
              "      buttonEl.style.display =\n",
              "        google.colab.kernel.accessAllowed ? 'block' : 'none';\n",
              "\n",
              "      async function convertToInteractive(key) {\n",
              "        const element = document.querySelector('#df-49f20585-2efb-4b00-8cab-1737f993881b');\n",
              "        const dataTable =\n",
              "          await google.colab.kernel.invokeFunction('convertToInteractive',\n",
              "                                                    [key], {});\n",
              "        if (!dataTable) return;\n",
              "\n",
              "        const docLinkHtml = 'Like what you see? Visit the ' +\n",
              "          '<a target=\"_blank\" href=https://colab.research.google.com/notebooks/data_table.ipynb>data table notebook</a>'\n",
              "          + ' to learn more about interactive tables.';\n",
              "        element.innerHTML = '';\n",
              "        dataTable['output_type'] = 'display_data';\n",
              "        await google.colab.output.renderOutput(dataTable, element);\n",
              "        const docLink = document.createElement('div');\n",
              "        docLink.innerHTML = docLinkHtml;\n",
              "        element.appendChild(docLink);\n",
              "      }\n",
              "    </script>\n",
              "  </div>\n",
              "\n",
              "\n",
              "<div id=\"df-c2839c20-f92f-416d-9013-4585c7d69ba1\">\n",
              "  <button class=\"colab-df-quickchart\" onclick=\"quickchart('df-c2839c20-f92f-416d-9013-4585c7d69ba1')\"\n",
              "            title=\"Suggest charts\"\n",
              "            style=\"display:none;\">\n",
              "\n",
              "<svg xmlns=\"http://www.w3.org/2000/svg\" height=\"24px\"viewBox=\"0 0 24 24\"\n",
              "     width=\"24px\">\n",
              "    <g>\n",
              "        <path d=\"M19 3H5c-1.1 0-2 .9-2 2v14c0 1.1.9 2 2 2h14c1.1 0 2-.9 2-2V5c0-1.1-.9-2-2-2zM9 17H7v-7h2v7zm4 0h-2V7h2v10zm4 0h-2v-4h2v4z\"/>\n",
              "    </g>\n",
              "</svg>\n",
              "  </button>\n",
              "\n",
              "<style>\n",
              "  .colab-df-quickchart {\n",
              "      --bg-color: #E8F0FE;\n",
              "      --fill-color: #1967D2;\n",
              "      --hover-bg-color: #E2EBFA;\n",
              "      --hover-fill-color: #174EA6;\n",
              "      --disabled-fill-color: #AAA;\n",
              "      --disabled-bg-color: #DDD;\n",
              "  }\n",
              "\n",
              "  [theme=dark] .colab-df-quickchart {\n",
              "      --bg-color: #3B4455;\n",
              "      --fill-color: #D2E3FC;\n",
              "      --hover-bg-color: #434B5C;\n",
              "      --hover-fill-color: #FFFFFF;\n",
              "      --disabled-bg-color: #3B4455;\n",
              "      --disabled-fill-color: #666;\n",
              "  }\n",
              "\n",
              "  .colab-df-quickchart {\n",
              "    background-color: var(--bg-color);\n",
              "    border: none;\n",
              "    border-radius: 50%;\n",
              "    cursor: pointer;\n",
              "    display: none;\n",
              "    fill: var(--fill-color);\n",
              "    height: 32px;\n",
              "    padding: 0;\n",
              "    width: 32px;\n",
              "  }\n",
              "\n",
              "  .colab-df-quickchart:hover {\n",
              "    background-color: var(--hover-bg-color);\n",
              "    box-shadow: 0 1px 2px rgba(60, 64, 67, 0.3), 0 1px 3px 1px rgba(60, 64, 67, 0.15);\n",
              "    fill: var(--button-hover-fill-color);\n",
              "  }\n",
              "\n",
              "  .colab-df-quickchart-complete:disabled,\n",
              "  .colab-df-quickchart-complete:disabled:hover {\n",
              "    background-color: var(--disabled-bg-color);\n",
              "    fill: var(--disabled-fill-color);\n",
              "    box-shadow: none;\n",
              "  }\n",
              "\n",
              "  .colab-df-spinner {\n",
              "    border: 2px solid var(--fill-color);\n",
              "    border-color: transparent;\n",
              "    border-bottom-color: var(--fill-color);\n",
              "    animation:\n",
              "      spin 1s steps(1) infinite;\n",
              "  }\n",
              "\n",
              "  @keyframes spin {\n",
              "    0% {\n",
              "      border-color: transparent;\n",
              "      border-bottom-color: var(--fill-color);\n",
              "      border-left-color: var(--fill-color);\n",
              "    }\n",
              "    20% {\n",
              "      border-color: transparent;\n",
              "      border-left-color: var(--fill-color);\n",
              "      border-top-color: var(--fill-color);\n",
              "    }\n",
              "    30% {\n",
              "      border-color: transparent;\n",
              "      border-left-color: var(--fill-color);\n",
              "      border-top-color: var(--fill-color);\n",
              "      border-right-color: var(--fill-color);\n",
              "    }\n",
              "    40% {\n",
              "      border-color: transparent;\n",
              "      border-right-color: var(--fill-color);\n",
              "      border-top-color: var(--fill-color);\n",
              "    }\n",
              "    60% {\n",
              "      border-color: transparent;\n",
              "      border-right-color: var(--fill-color);\n",
              "    }\n",
              "    80% {\n",
              "      border-color: transparent;\n",
              "      border-right-color: var(--fill-color);\n",
              "      border-bottom-color: var(--fill-color);\n",
              "    }\n",
              "    90% {\n",
              "      border-color: transparent;\n",
              "      border-bottom-color: var(--fill-color);\n",
              "    }\n",
              "  }\n",
              "</style>\n",
              "\n",
              "  <script>\n",
              "    async function quickchart(key) {\n",
              "      const quickchartButtonEl =\n",
              "        document.querySelector('#' + key + ' button');\n",
              "      quickchartButtonEl.disabled = true;  // To prevent multiple clicks.\n",
              "      quickchartButtonEl.classList.add('colab-df-spinner');\n",
              "      try {\n",
              "        const charts = await google.colab.kernel.invokeFunction(\n",
              "            'suggestCharts', [key], {});\n",
              "      } catch (error) {\n",
              "        console.error('Error during call to suggestCharts:', error);\n",
              "      }\n",
              "      quickchartButtonEl.classList.remove('colab-df-spinner');\n",
              "      quickchartButtonEl.classList.add('colab-df-quickchart-complete');\n",
              "    }\n",
              "    (() => {\n",
              "      let quickchartButtonEl =\n",
              "        document.querySelector('#df-c2839c20-f92f-416d-9013-4585c7d69ba1 button');\n",
              "      quickchartButtonEl.style.display =\n",
              "        google.colab.kernel.accessAllowed ? 'block' : 'none';\n",
              "    })();\n",
              "  </script>\n",
              "</div>\n",
              "    </div>\n",
              "  </div>\n"
            ],
            "application/vnd.google.colaboratory.intrinsic+json": {
              "type": "dataframe",
              "variable_name": "data_set",
              "summary": "{\n  \"name\": \"data_set\",\n  \"rows\": 200,\n  \"fields\": [\n    {\n      \"column\": \"Age\",\n      \"properties\": {\n        \"dtype\": \"number\",\n        \"std\": 16,\n        \"min\": 15,\n        \"max\": 74,\n        \"num_unique_values\": 57,\n        \"samples\": [\n          23,\n          49,\n          37\n        ],\n        \"semantic_type\": \"\",\n        \"description\": \"\"\n      }\n    },\n    {\n      \"column\": \"Sex\",\n      \"properties\": {\n        \"dtype\": \"number\",\n        \"std\": 0,\n        \"min\": 0,\n        \"max\": 1,\n        \"num_unique_values\": 2,\n        \"samples\": [\n          1,\n          0\n        ],\n        \"semantic_type\": \"\",\n        \"description\": \"\"\n      }\n    },\n    {\n      \"column\": \"BP\",\n      \"properties\": {\n        \"dtype\": \"number\",\n        \"std\": 0,\n        \"min\": 0,\n        \"max\": 2,\n        \"num_unique_values\": 3,\n        \"samples\": [\n          0,\n          1\n        ],\n        \"semantic_type\": \"\",\n        \"description\": \"\"\n      }\n    },\n    {\n      \"column\": \"Cholesterol\",\n      \"properties\": {\n        \"dtype\": \"number\",\n        \"std\": 0,\n        \"min\": 0,\n        \"max\": 1,\n        \"num_unique_values\": 2,\n        \"samples\": [\n          1,\n          0\n        ],\n        \"semantic_type\": \"\",\n        \"description\": \"\"\n      }\n    },\n    {\n      \"column\": \"Na_to_K\",\n      \"properties\": {\n        \"dtype\": \"number\",\n        \"std\": 7.223955528459516,\n        \"min\": 6.269,\n        \"max\": 38.247,\n        \"num_unique_values\": 198,\n        \"samples\": [\n          27.05,\n          9.281\n        ],\n        \"semantic_type\": \"\",\n        \"description\": \"\"\n      }\n    },\n    {\n      \"column\": \"Drug\",\n      \"properties\": {\n        \"dtype\": \"number\",\n        \"std\": 1,\n        \"min\": 0,\n        \"max\": 4,\n        \"num_unique_values\": 5,\n        \"samples\": [\n          3,\n          2\n        ],\n        \"semantic_type\": \"\",\n        \"description\": \"\"\n      }\n    },\n    {\n      \"column\": \"Na_to_K>15\",\n      \"properties\": {\n        \"dtype\": \"number\",\n        \"std\": 0,\n        \"min\": 0,\n        \"max\": 1,\n        \"num_unique_values\": 2,\n        \"samples\": [\n          0,\n          1\n        ],\n        \"semantic_type\": \"\",\n        \"description\": \"\"\n      }\n    }\n  ]\n}"
            }
          },
          "metadata": {},
          "execution_count": 31
        }
      ]
    },
    {
      "cell_type": "markdown",
      "source": [
        "# Splitting Dataset (Training-Testing)"
      ],
      "metadata": {
        "id": "xmR7GVBbfeCP"
      }
    },
    {
      "cell_type": "code",
      "source": [
        "from sklearn.model_selection import train_test_split"
      ],
      "metadata": {
        "id": "LIEaHmrlkNYf"
      },
      "execution_count": 32,
      "outputs": []
    },
    {
      "cell_type": "code",
      "source": [
        "x=data_set.drop(['Drug'], axis=1)\n",
        "y=data_set.Drug"
      ],
      "metadata": {
        "id": "HwcsSY9_ny6M"
      },
      "execution_count": 33,
      "outputs": []
    },
    {
      "cell_type": "code",
      "source": [
        "x_train, x_test, y_train, y_test=train_test_split(x, y, test_size=0.2, random_state=42, shuffle=True)"
      ],
      "metadata": {
        "id": "JIBrE4kEn-0p"
      },
      "execution_count": 34,
      "outputs": []
    },
    {
      "cell_type": "code",
      "source": [
        "y_train=y_train.values.reshape(-1,1)\n",
        "y_test=y_test.values.reshape(-1,1)"
      ],
      "metadata": {
        "id": "kwgpWe1eosxI"
      },
      "execution_count": 35,
      "outputs": []
    },
    {
      "cell_type": "code",
      "source": [
        "print('x_train shape', x_train.shape)\n",
        "print('x_test shape', x_test.shape)\n",
        "print('y_train shape', y_train.shape)\n",
        "print('y_test shape', y_test.shape)"
      ],
      "metadata": {
        "id": "NPXvJSz-piVL",
        "colab": {
          "base_uri": "https://localhost:8080/"
        },
        "outputId": "b947fdb7-e031-4aee-f360-b068ccc8cb68"
      },
      "execution_count": 36,
      "outputs": [
        {
          "output_type": "stream",
          "name": "stdout",
          "text": [
            "x_train shape (160, 6)\n",
            "x_test shape (40, 6)\n",
            "y_train shape (160, 1)\n",
            "y_test shape (40, 1)\n"
          ]
        }
      ]
    },
    {
      "cell_type": "markdown",
      "source": [
        "# Models used"
      ],
      "metadata": {
        "id": "TwEQHm8faVjg"
      }
    },
    {
      "cell_type": "markdown",
      "source": [
        "## KNN Classification"
      ],
      "metadata": {
        "id": "HgBeqQfaakwW"
      }
    },
    {
      "cell_type": "code",
      "source": [
        "from sklearn.neighbors import KNeighborsClassifier\n",
        "knn=KNeighborsClassifier()\n",
        "\n",
        "knn.fit(x_train,y_train)\n",
        "knn_pred=knn.predict(x_test)"
      ],
      "metadata": {
        "id": "8bY69V4carxU"
      },
      "execution_count": 37,
      "outputs": []
    },
    {
      "cell_type": "code",
      "source": [
        "knn.score(x_test,y_test)"
      ],
      "metadata": {
        "id": "ITmolZTHbp5x",
        "colab": {
          "base_uri": "https://localhost:8080/"
        },
        "outputId": "1d3a9a19-5dcc-4891-9fe4-03342135123c"
      },
      "execution_count": 38,
      "outputs": [
        {
          "output_type": "execute_result",
          "data": {
            "text/plain": [
              "0.7"
            ]
          },
          "metadata": {},
          "execution_count": 38
        }
      ]
    },
    {
      "cell_type": "code",
      "source": [
        "grid={'n_neighbors':numpy.arange(1,120), 'p':numpy.arange(1,3), 'weights':['uniform','distance']}\n",
        "\n",
        "knn_cv=GridSearchCV(knn,grid,cv=5)\n",
        "knn_cv.fit(x_train,y_train)\n",
        "knn_cv_pred=knn_cv.predict(x_test)"
      ],
      "metadata": {
        "id": "tfBfl4T_f911"
      },
      "execution_count": 39,
      "outputs": []
    },
    {
      "cell_type": "code",
      "source": [
        "knn_cv.score(x_test,y_test)"
      ],
      "metadata": {
        "id": "KqfEi5D_iPJz",
        "colab": {
          "base_uri": "https://localhost:8080/"
        },
        "outputId": "7036ca03-78e9-48f1-ca97-78457bf53524"
      },
      "execution_count": 40,
      "outputs": [
        {
          "output_type": "execute_result",
          "data": {
            "text/plain": [
              "0.75"
            ]
          },
          "metadata": {},
          "execution_count": 40
        }
      ]
    },
    {
      "cell_type": "code",
      "source": [
        "knn_cv.best_params_"
      ],
      "metadata": {
        "id": "D2jqJFpBieww",
        "colab": {
          "base_uri": "https://localhost:8080/"
        },
        "outputId": "8e9d8bde-2884-43f2-ebb8-2c944cee7532"
      },
      "execution_count": 41,
      "outputs": [
        {
          "output_type": "execute_result",
          "data": {
            "text/plain": [
              "{'n_neighbors': 8, 'p': 1, 'weights': 'distance'}"
            ]
          },
          "metadata": {},
          "execution_count": 41
        }
      ]
    },
    {
      "cell_type": "markdown",
      "source": [
        "## Logistic Regression"
      ],
      "metadata": {
        "id": "_AXRcFlRk52h"
      }
    },
    {
      "cell_type": "code",
      "source": [
        "from sklearn.linear_model import LogisticRegression\n",
        "log_reg=LogisticRegression()\n",
        "log_reg.fit(x_train,y_train)\n",
        "log_reg_pred=log_reg.predict(x_test)"
      ],
      "metadata": {
        "id": "RSlVzNYGlGDj"
      },
      "execution_count": 42,
      "outputs": []
    },
    {
      "cell_type": "code",
      "source": [
        "log_reg.score(x_test,y_test)"
      ],
      "metadata": {
        "id": "8D1Vjjyvl2Ei",
        "colab": {
          "base_uri": "https://localhost:8080/"
        },
        "outputId": "0b739fcf-b216-4766-cc6c-90094d9195e6"
      },
      "execution_count": 43,
      "outputs": [
        {
          "output_type": "execute_result",
          "data": {
            "text/plain": [
              "0.875"
            ]
          },
          "metadata": {},
          "execution_count": 43
        }
      ]
    },
    {
      "cell_type": "code",
      "source": [
        "grid = {'penalty':['l1','l2'], 'C':numpy.logspace(-3,3,7), 'solver':['liblinear','saga']}\n",
        "log_reg_cv=GridSearchCV(log_reg,grid,cv=5)\n",
        "log_reg_cv.fit(x_train,y_train)\n",
        "log_reg_cv_pred=log_reg.predict(x_test)"
      ],
      "metadata": {
        "id": "l-raXddBmJXl"
      },
      "execution_count": 44,
      "outputs": []
    },
    {
      "cell_type": "code",
      "source": [
        "log_reg_cv.score(x_test,y_test)"
      ],
      "metadata": {
        "id": "cSPGa-rqmptX",
        "colab": {
          "base_uri": "https://localhost:8080/"
        },
        "outputId": "dcb1068c-df1b-41e5-d015-9994f686e213"
      },
      "execution_count": 45,
      "outputs": [
        {
          "output_type": "execute_result",
          "data": {
            "text/plain": [
              "1.0"
            ]
          },
          "metadata": {},
          "execution_count": 45
        }
      ]
    },
    {
      "cell_type": "code",
      "source": [
        "log_reg_cv.best_params_"
      ],
      "metadata": {
        "id": "vDkxheffyC7R",
        "colab": {
          "base_uri": "https://localhost:8080/"
        },
        "outputId": "37e56db5-75a2-451b-9df7-cda475a7553c"
      },
      "execution_count": 46,
      "outputs": [
        {
          "output_type": "execute_result",
          "data": {
            "text/plain": [
              "{'C': 10.0, 'penalty': 'l1', 'solver': 'liblinear'}"
            ]
          },
          "metadata": {},
          "execution_count": 46
        }
      ]
    },
    {
      "cell_type": "markdown",
      "source": [
        "## Naive Bayes"
      ],
      "metadata": {
        "id": "UaWCr55O3wX-"
      }
    },
    {
      "cell_type": "code",
      "source": [
        "from sklearn.naive_bayes import GaussianNB\n",
        "n_bayes=GaussianNB()\n",
        "n_bayes.fit(x_train,y_train)\n",
        "n_bayes_pred=n_bayes.predict(x_test)"
      ],
      "metadata": {
        "id": "D_P6GwEW32WM"
      },
      "execution_count": 47,
      "outputs": []
    },
    {
      "cell_type": "code",
      "source": [
        "n_bayes.score(x_test,y_test)"
      ],
      "metadata": {
        "id": "EQqwsie34grP",
        "colab": {
          "base_uri": "https://localhost:8080/"
        },
        "outputId": "632fbd6c-1951-460c-c596-553f636d4f7c"
      },
      "execution_count": 48,
      "outputs": [
        {
          "output_type": "execute_result",
          "data": {
            "text/plain": [
              "1.0"
            ]
          },
          "metadata": {},
          "execution_count": 48
        }
      ]
    },
    {
      "cell_type": "code",
      "source": [
        "grid = {}\n",
        "n_bayes_cv=GridSearchCV(n_bayes,grid,cv=5)\n",
        "n_bayes_cv.fit(x_train,y_train)\n",
        "n_bayes_cv_pred=log_reg.predict(x_test)"
      ],
      "metadata": {
        "id": "D8phf3uP5r74"
      },
      "execution_count": 49,
      "outputs": []
    },
    {
      "cell_type": "code",
      "source": [
        "n_bayes_cv.score(x_test,y_test)"
      ],
      "metadata": {
        "id": "mFTObRAe5sRd",
        "colab": {
          "base_uri": "https://localhost:8080/"
        },
        "outputId": "fba000e2-d51a-4f67-b311-f05a5ba8d0a4"
      },
      "execution_count": 50,
      "outputs": [
        {
          "output_type": "execute_result",
          "data": {
            "text/plain": [
              "1.0"
            ]
          },
          "metadata": {},
          "execution_count": 50
        }
      ]
    },
    {
      "cell_type": "markdown",
      "source": [
        "## Random Forest Classifier"
      ],
      "metadata": {
        "id": "mynujPD568lO"
      }
    },
    {
      "cell_type": "code",
      "source": [
        "from sklearn.ensemble import RandomForestClassifier\n",
        "random_state=42\n",
        "rand_fc=RandomForestClassifier(random_state)\n",
        "rand_fc.fit(x_train,y_train)\n",
        "rand_fc_pred=rand_fc.predict(x_test)"
      ],
      "metadata": {
        "id": "EGsWTo5v7ADr"
      },
      "execution_count": 51,
      "outputs": []
    },
    {
      "cell_type": "code",
      "source": [
        "print(numpy.mean(cross_val_score(rand_fc, x_train, y_train, cv=5)))\n",
        "#m=numpy.mean(cross_val_score(rand_fc, x_train, y_train, cv=5))\n",
        "#print(m)\n",
        "rand_fc.score(x_test,y_test)"
      ],
      "metadata": {
        "id": "leq8RHUC-p-n",
        "colab": {
          "base_uri": "https://localhost:8080/"
        },
        "outputId": "6a22b30d-615b-4ca1-8db0-dd92786a2536"
      },
      "execution_count": 52,
      "outputs": [
        {
          "output_type": "stream",
          "name": "stdout",
          "text": [
            "0.98125\n"
          ]
        },
        {
          "output_type": "execute_result",
          "data": {
            "text/plain": [
              "0.975"
            ]
          },
          "metadata": {},
          "execution_count": 52
        }
      ]
    },
    {
      "cell_type": "code",
      "source": [
        "grid={'n_estimators':numpy.arange(100,1000,100), 'criterion':['gini','entropy']}\n",
        "rand_fc_cv=GridSearchCV(rand_fc, param_grid=grid, cv=5)\n",
        "rand_fc_cv.fit(x_train,y_train)\n",
        "rand_fc_cv_pred=rand_fc.predict(x_test)"
      ],
      "metadata": {
        "id": "fIlZIIpnAePN"
      },
      "execution_count": 53,
      "outputs": []
    },
    {
      "cell_type": "code",
      "source": [
        "rand_fc_cv.score(x_test,y_test)"
      ],
      "metadata": {
        "id": "_u-rahBNCE98",
        "colab": {
          "base_uri": "https://localhost:8080/"
        },
        "outputId": "9800bab6-2878-4035-b462-281d751ca468"
      },
      "execution_count": 54,
      "outputs": [
        {
          "output_type": "execute_result",
          "data": {
            "text/plain": [
              "0.975"
            ]
          },
          "metadata": {},
          "execution_count": 54
        }
      ]
    },
    {
      "cell_type": "code",
      "source": [
        "print(rand_fc_cv.best_score_)\n",
        "rand_fc_cv.best_params_"
      ],
      "metadata": {
        "id": "owS0PrLfCun4",
        "colab": {
          "base_uri": "https://localhost:8080/"
        },
        "outputId": "55baee87-288a-4555-be25-4512b951bdf9"
      },
      "execution_count": 55,
      "outputs": [
        {
          "output_type": "stream",
          "name": "stdout",
          "text": [
            "0.99375\n"
          ]
        },
        {
          "output_type": "execute_result",
          "data": {
            "text/plain": [
              "{'criterion': 'gini', 'n_estimators': 700}"
            ]
          },
          "metadata": {},
          "execution_count": 55
        }
      ]
    },
    {
      "cell_type": "markdown",
      "source": [
        "# Model's perfromance metrices"
      ],
      "metadata": {
        "id": "Lal4l-48EzVV"
      }
    },
    {
      "cell_type": "markdown",
      "source": [
        "## Accuracy"
      ],
      "metadata": {
        "id": "ZtSGp8HXFAuY"
      }
    },
    {
      "cell_type": "markdown",
      "source": [
        "### Without GridSearchCV"
      ],
      "metadata": {
        "id": "9366qzCEFFPr"
      }
    },
    {
      "cell_type": "code",
      "source": [
        "accuracy_knn=knn.score(x_test,y_test)\n",
        "accuracy_log_reg=log_reg.score(x_test,y_test)\n",
        "accuracy_n_bayes=n_bayes.score(x_test,y_test)\n",
        "accuracy_rand_fc=rand_fc.score(x_test,y_test)"
      ],
      "metadata": {
        "id": "ppnep0m8FSBz"
      },
      "execution_count": 56,
      "outputs": []
    },
    {
      "cell_type": "code",
      "source": [
        "print(accuracy_knn, accuracy_log_reg, accuracy_n_bayes, accuracy_rand_fc)"
      ],
      "metadata": {
        "id": "aoCoKUxFFSZ7",
        "colab": {
          "base_uri": "https://localhost:8080/"
        },
        "outputId": "a2d0d42d-a7a3-417d-899a-c8a5ff2d051e"
      },
      "execution_count": 57,
      "outputs": [
        {
          "output_type": "stream",
          "name": "stdout",
          "text": [
            "0.7 0.875 1.0 0.975\n"
          ]
        }
      ]
    },
    {
      "cell_type": "markdown",
      "source": [
        "### With GridSearchCV"
      ],
      "metadata": {
        "id": "PmtnQTKwFMh3"
      }
    },
    {
      "cell_type": "code",
      "source": [
        "accuracy_cv_knn=knn_cv.score(x_test,y_test)\n",
        "accuracy_cv_log_reg=log_reg_cv.score(x_test,y_test)\n",
        "accuracy_cv_n_bayes=n_bayes_cv.score(x_test,y_test)\n",
        "accuracy_cv_rand_fc=rand_fc_cv.score(x_test,y_test)"
      ],
      "metadata": {
        "id": "eTskOUKYFTc6"
      },
      "execution_count": 58,
      "outputs": []
    },
    {
      "cell_type": "code",
      "source": [
        "print(accuracy_cv_knn, accuracy_cv_log_reg, accuracy_cv_n_bayes, accuracy_cv_rand_fc)"
      ],
      "metadata": {
        "id": "hYC3-sV7FT2P",
        "colab": {
          "base_uri": "https://localhost:8080/"
        },
        "outputId": "d3e91e62-1a48-42b5-ff3f-b1d5cd3e6a4d"
      },
      "execution_count": 59,
      "outputs": [
        {
          "output_type": "stream",
          "name": "stdout",
          "text": [
            "0.75 1.0 1.0 0.975\n"
          ]
        }
      ]
    },
    {
      "cell_type": "markdown",
      "source": [
        "### Confuion Matrix"
      ],
      "metadata": {
        "id": "DYnlq0YcIOpT"
      }
    },
    {
      "cell_type": "markdown",
      "source": [
        "#### Without GridSearchCV"
      ],
      "metadata": {
        "id": "-IgeqDq-JAjs"
      }
    },
    {
      "cell_type": "code",
      "source": [
        "from sklearn.metrics import confusion_matrix\n",
        "from sklearn.metrics import ConfusionMatrixDisplay\n",
        "\n",
        "class_names=['DrugY','drugC','drugX','drugA','drugB']\n",
        "\n",
        "cm_knn=confusion_matrix(y_test, knn.predict(x_test))\n",
        "display_knn=ConfusionMatrixDisplay(confusion_matrix=cm_knn, display_labels=class_names)\n",
        "display_knn.plot(cmap=plt.cm.Blues)\n",
        "plt.title('Confusion Matrix for KNN Classifiers')\n",
        "\n",
        "cm_log_reg=confusion_matrix(y_test, log_reg.predict(x_test))\n",
        "display_log_reg=ConfusionMatrixDisplay(confusion_matrix=cm_log_reg, display_labels=class_names)\n",
        "display_log_reg.plot(cmap=plt.cm.Blues)\n",
        "plt.title('Confusion Matrix for Logistic Regression')\n",
        "\n",
        "cm_n_bayes=confusion_matrix(y_test, n_bayes.predict(x_test))\n",
        "display_n_bayes=ConfusionMatrixDisplay(confusion_matrix=cm_n_bayes, display_labels=class_names)\n",
        "display_n_bayes.plot(cmap=plt.cm.Blues)\n",
        "plt.title('Confusion Matrix for Naive Bayes')\n",
        "\n",
        "cm_rand_fc=confusion_matrix(y_test, rand_fc.predict(x_test))\n",
        "display_rand_fc=ConfusionMatrixDisplay(confusion_matrix=cm_rand_fc, display_labels=class_names)\n",
        "display_rand_fc.plot(cmap=plt.cm.Blues)\n",
        "plt.title('Confusion Matrix for Random Forest Classifier')"
      ],
      "metadata": {
        "id": "BM7qYppEJRZo",
        "colab": {
          "base_uri": "https://localhost:8080/",
          "height": 1000
        },
        "outputId": "c59ef2c7-0f87-405c-cb5f-544abc671ed8"
      },
      "execution_count": 60,
      "outputs": [
        {
          "output_type": "execute_result",
          "data": {
            "text/plain": [
              "Text(0.5, 1.0, 'Confusion Matrix for Random Forest Classifier')"
            ]
          },
          "metadata": {},
          "execution_count": 60
        },
        {
          "output_type": "display_data",
          "data": {
            "text/plain": [
              "<Figure size 640x480 with 2 Axes>"
            ],
            "image/png": "[encoded data removed]"
          },
          "metadata": {}
        },
        {
          "output_type": "display_data",
          "data": {
            "text/plain": [
              "<Figure size 640x480 with 2 Axes>"
            ],
            "image/png": "[encoded data removed]"
          },
          "metadata": {}
        },
        {
          "output_type": "display_data",
          "data": {
            "text/plain": [
              "<Figure size 640x480 with 2 Axes>"
            ],
            "image/png": "[encoded data removed]"
          },
          "metadata": {}
        },
        {
          "output_type": "display_data",
          "data": {
            "text/plain": [
              "<Figure size 640x480 with 2 Axes>"
            ],
            "image/png": "[encoded data removed]"
          },
          "metadata": {}
        }
      ]
    },
    {
      "cell_type": "markdown",
      "source": [
        "#### With GridSearchCV"
      ],
      "metadata": {
        "id": "zkFaNMiFJBQB"
      }
    },
    {
      "cell_type": "code",
      "source": [
        "from sklearn.metrics import confusion_matrix\n",
        "from sklearn.metrics import ConfusionMatrixDisplay\n",
        "\n",
        "class_names=['DrugY','drugC','drugX','drugA','drugB']\n",
        "\n",
        "cm_knn=confusion_matrix(y_test, knn_cv.predict(x_test))\n",
        "display_knn=ConfusionMatrixDisplay(confusion_matrix=cm_knn, display_labels=class_names)\n",
        "display_knn.plot(cmap=plt.cm.Blues)\n",
        "plt.title('Confusion Matrix for KNN Classifiers')\n",
        "\n",
        "cm_log_reg=confusion_matrix(y_test, log_reg_cv.predict(x_test))\n",
        "display_log_reg=ConfusionMatrixDisplay(confusion_matrix=cm_log_reg, display_labels=class_names)\n",
        "display_log_reg.plot(cmap=plt.cm.Blues)\n",
        "plt.title('Confusion Matrix for Logistic Regression')\n",
        "\n",
        "cm_n_bayes=confusion_matrix(y_test, n_bayes_cv.predict(x_test))\n",
        "display_n_bayes=ConfusionMatrixDisplay(confusion_matrix=cm_n_bayes, display_labels=class_names)\n",
        "display_n_bayes.plot(cmap=plt.cm.Blues)\n",
        "plt.title('Confusion Matrix for Naive Bayes')\n",
        "\n",
        "cm_rand_fc=confusion_matrix(y_test, rand_fc_cv.predict(x_test))\n",
        "display_rand_fc=ConfusionMatrixDisplay(confusion_matrix=cm_rand_fc, display_labels=class_names)\n",
        "display_rand_fc.plot(cmap=plt.cm.Blues)\n",
        "plt.title('Confusion Matrix for Random Forest Classifier')"
      ],
      "metadata": {
        "id": "6h-sKg4HJSJ0",
        "colab": {
          "base_uri": "https://localhost:8080/",
          "height": 1000
        },
        "outputId": "9ee672dd-6506-4fc8-8131-164fa7d22127"
      },
      "execution_count": 61,
      "outputs": [
        {
          "output_type": "execute_result",
          "data": {
            "text/plain": [
              "Text(0.5, 1.0, 'Confusion Matrix for Random Forest Classifier')"
            ]
          },
          "metadata": {},
          "execution_count": 61
        },
        {
          "output_type": "display_data",
          "data": {
            "text/plain": [
              "<Figure size 640x480 with 2 Axes>"
            ],
            "image/png": "[encoded data removed]"
          },
          "metadata": {}
        },
        {
          "output_type": "display_data",
          "data": {
            "text/plain": [
              "<Figure size 640x480 with 2 Axes>"
            ],
            "image/png": "[encoded data removed]"
          },
          "metadata": {}
        },
        {
          "output_type": "display_data",
          "data": {
            "text/plain": [
              "<Figure size 640x480 with 2 Axes>"
            ],
            "image/png": "[encoded data removed]"
          },
          "metadata": {}
        },
        {
          "output_type": "display_data",
          "data": {
            "text/plain": [
              "<Figure size 640x480 with 2 Axes>"
            ],
            "image/png": "[encoded data removed]"
          },
          "metadata": {}
        }
      ]
    },
    {
      "cell_type": "markdown",
      "source": [
        "## Report"
      ],
      "metadata": {
        "id": "skSkEeNhcJxI"
      }
    },
    {
      "cell_type": "markdown",
      "source": [
        "### Without GridSearchCV"
      ],
      "metadata": {
        "id": "fl32aAKBcRHW"
      }
    },
    {
      "cell_type": "code",
      "source": [
        "from sklearn.metrics import classification_report\n",
        "\n",
        "report_knn=classification_report(y_test, knn_pred, target_names=class_names)\n",
        "report_log_reg=classification_report(y_test, log_reg_pred, target_names=class_names)\n",
        "report_n_bayes=classification_report(y_test, n_bayes_pred, target_names=class_names)\n",
        "report_rand_fc=classification_report(y_test, rand_fc_pred, target_names=class_names)"
      ],
      "metadata": {
        "id": "E0UD-7MrcfCQ"
      },
      "execution_count": 62,
      "outputs": []
    },
    {
      "cell_type": "code",
      "source": [
        "print(report_knn, report_log_reg, report_n_bayes, report_rand_fc, sep='\\n\\n')"
      ],
      "metadata": {
        "id": "BVlSxWh1jSEY",
        "colab": {
          "base_uri": "https://localhost:8080/"
        },
        "outputId": "ddde34be-ecd3-4949-8e9a-60c61f02def9"
      },
      "execution_count": 63,
      "outputs": [
        {
          "output_type": "stream",
          "name": "stdout",
          "text": [
            "              precision    recall  f1-score   support\n",
            "\n",
            "       DrugY       1.00      1.00      1.00        15\n",
            "       drugC       0.60      0.50      0.55         6\n",
            "       drugX       0.33      0.67      0.44         3\n",
            "       drugA       1.00      0.20      0.33         5\n",
            "       drugB       0.54      0.64      0.58        11\n",
            "\n",
            "    accuracy                           0.70        40\n",
            "   macro avg       0.69      0.60      0.58        40\n",
            "weighted avg       0.76      0.70      0.69        40\n",
            "\n",
            "\n",
            "              precision    recall  f1-score   support\n",
            "\n",
            "       DrugY       0.94      1.00      0.97        15\n",
            "       drugC       1.00      1.00      1.00         6\n",
            "       drugX       1.00      1.00      1.00         3\n",
            "       drugA       0.00      0.00      0.00         5\n",
            "       drugB       0.73      1.00      0.85        11\n",
            "\n",
            "    accuracy                           0.88        40\n",
            "   macro avg       0.73      0.80      0.76        40\n",
            "weighted avg       0.78      0.88      0.82        40\n",
            "\n",
            "\n",
            "              precision    recall  f1-score   support\n",
            "\n",
            "       DrugY       1.00      1.00      1.00        15\n",
            "       drugC       1.00      1.00      1.00         6\n",
            "       drugX       1.00      1.00      1.00         3\n",
            "       drugA       1.00      1.00      1.00         5\n",
            "       drugB       1.00      1.00      1.00        11\n",
            "\n",
            "    accuracy                           1.00        40\n",
            "   macro avg       1.00      1.00      1.00        40\n",
            "weighted avg       1.00      1.00      1.00        40\n",
            "\n",
            "\n",
            "              precision    recall  f1-score   support\n",
            "\n",
            "       DrugY       1.00      1.00      1.00        15\n",
            "       drugC       1.00      1.00      1.00         6\n",
            "       drugX       1.00      1.00      1.00         3\n",
            "       drugA       1.00      0.80      0.89         5\n",
            "       drugB       0.92      1.00      0.96        11\n",
            "\n",
            "    accuracy                           0.97        40\n",
            "   macro avg       0.98      0.96      0.97        40\n",
            "weighted avg       0.98      0.97      0.97        40\n",
            "\n"
          ]
        }
      ]
    },
    {
      "cell_type": "markdown",
      "source": [
        "### With GridSearchCV"
      ],
      "metadata": {
        "id": "YIaD3uc9cRzW"
      }
    },
    {
      "cell_type": "code",
      "source": [
        "from sklearn.metrics import classification_report\n",
        "\n",
        "report_knn=classification_report(y_test, knn_cv_pred, target_names=class_names)\n",
        "report_log_reg=classification_report(y_test, log_reg_cv_pred, target_names=class_names)\n",
        "report_n_bayes=classification_report(y_test, n_bayes_cv_pred, target_names=class_names)\n",
        "report_rand_fc=classification_report(y_test, rand_fc_cv_pred, target_names=class_names)"
      ],
      "metadata": {
        "id": "xU-0NZcecf41"
      },
      "execution_count": 64,
      "outputs": []
    },
    {
      "cell_type": "code",
      "source": [
        "print(report_knn, report_log_reg, report_n_bayes, report_rand_fc, sep='\\n\\n')"
      ],
      "metadata": {
        "id": "erdYT3LljS86",
        "colab": {
          "base_uri": "https://localhost:8080/"
        },
        "outputId": "9dab703e-0140-40a0-843e-60c00a69ef6b"
      },
      "execution_count": 65,
      "outputs": [
        {
          "output_type": "stream",
          "name": "stdout",
          "text": [
            "              precision    recall  f1-score   support\n",
            "\n",
            "       DrugY       1.00      1.00      1.00        15\n",
            "       drugC       1.00      0.67      0.80         6\n",
            "       drugX       0.25      0.33      0.29         3\n",
            "       drugA       1.00      0.20      0.33         5\n",
            "       drugB       0.56      0.82      0.67        11\n",
            "\n",
            "    accuracy                           0.75        40\n",
            "   macro avg       0.76      0.60      0.62        40\n",
            "weighted avg       0.82      0.75      0.74        40\n",
            "\n",
            "\n",
            "              precision    recall  f1-score   support\n",
            "\n",
            "       DrugY       0.94      1.00      0.97        15\n",
            "       drugC       1.00      1.00      1.00         6\n",
            "       drugX       1.00      1.00      1.00         3\n",
            "       drugA       0.00      0.00      0.00         5\n",
            "       drugB       0.73      1.00      0.85        11\n",
            "\n",
            "    accuracy                           0.88        40\n",
            "   macro avg       0.73      0.80      0.76        40\n",
            "weighted avg       0.78      0.88      0.82        40\n",
            "\n",
            "\n",
            "              precision    recall  f1-score   support\n",
            "\n",
            "       DrugY       0.94      1.00      0.97        15\n",
            "       drugC       1.00      1.00      1.00         6\n",
            "       drugX       1.00      1.00      1.00         3\n",
            "       drugA       0.00      0.00      0.00         5\n",
            "       drugB       0.73      1.00      0.85        11\n",
            "\n",
            "    accuracy                           0.88        40\n",
            "   macro avg       0.73      0.80      0.76        40\n",
            "weighted avg       0.78      0.88      0.82        40\n",
            "\n",
            "\n",
            "              precision    recall  f1-score   support\n",
            "\n",
            "       DrugY       1.00      1.00      1.00        15\n",
            "       drugC       1.00      1.00      1.00         6\n",
            "       drugX       1.00      1.00      1.00         3\n",
            "       drugA       1.00      0.80      0.89         5\n",
            "       drugB       0.92      1.00      0.96        11\n",
            "\n",
            "    accuracy                           0.97        40\n",
            "   macro avg       0.98      0.96      0.97        40\n",
            "weighted avg       0.98      0.97      0.97        40\n",
            "\n"
          ]
        }
      ]
    }
  ]
}
